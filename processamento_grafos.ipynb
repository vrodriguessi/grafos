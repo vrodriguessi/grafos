{
 "cells": [
  {
   "cell_type": "markdown",
   "id": "acb82843",
   "metadata": {},
   "source": [
    "# 🧠 Processamento de Grafos e Estatísticas\n",
    "Este notebook carrega grafos a partir de arquivos `.dat`, calcula estatísticas com algoritmos de caminhos e exibe os resultados."
   ]
  },
  {
   "cell_type": "code",
   "execution_count": null,
   "id": "d6494773",
   "metadata": {},
   "outputs": [],
   "source": [
    "from src.Grafos import Grafo\n",
    "from src.utils.leitura_dados import parse_file_into_grafo\n",
    "from src.algorithms.estatisticas import calcular_estatisticas, calcular_caminho_medio, calcular_diametro, calcular_intermediacao\n",
    "from src.algorithms.floyd_warshall import floyd_warshall\n",
    "import os"
   ]
  },
  {
   "cell_type": "code",
   "execution_count": null,
   "id": "354105b9",
   "metadata": {},
   "outputs": [],
   "source": [
    "def processar_arquivo(arquivo):\n",
    "    print(f\"📂 Processando o arquivo {arquivo}...\\n\")\n",
    "    \n",
    "    grafo = parse_file_into_grafo(arquivo)\n",
    "\n",
    "    if not grafo:\n",
    "        print(f\"⚠️ Erro: O arquivo {arquivo} não contém dados válidos.\")\n",
    "        return\n",
    "\n",
    "    print(f\"✅ Grafo de {arquivo} carregado com sucesso!\")\n",
    "\n",
    "    estatisticas = calcular_estatisticas(grafo)\n",
    "    dist, pred = floyd_warshall(grafo)\n",
    "\n",
    "    caminho_medio = calcular_caminho_medio(dist)\n",
    "    diametro = calcular_diametro(dist)\n",
    "\n",
    "    print(f\"\\n📊 Estatísticas do Grafo {arquivo}:\")\n",
    "    for chave, valor in estatisticas.items():\n",
    "        print(f\"  {chave}: {valor}\")\n",
    "    \n",
    "    print(f\"  Caminho médio: {caminho_medio}\")\n",
    "    print(f\"  Diametro: {diametro}\")\n",
    "\n",
    "    intermediacoes = calcular_intermediacao(dist, pred)\n",
    "    intermediacao_dict = {i: valor for i, valor in enumerate(intermediacoes, 1)}\n",
    "    print(f\"  Intermediação: {intermediacao_dict}\")"
   ]
  },
  {
   "cell_type": "code",
   "execution_count": null,
   "id": "cac01e0b",
   "metadata": {},
   "outputs": [],
   "source": [
    "pasta_arquivos = \"data\\selected_instances\"\n",
    "\n",
    "arquivos = [f for f in os.listdir(pasta_arquivos) if f.endswith(\".dat\")]\n",
    "print(f\"📁 Arquivos encontrados: {arquivos}\")"
   ]
  },
  {
   "cell_type": "code",
   "execution_count": null,
   "id": "564d3e23",
   "metadata": {},
   "outputs": [],
   "source": [
    "for arquivo in arquivos:\n",
    "    caminho_completo = os.path.join(pasta_arquivos, arquivo)\n",
    "    processar_arquivo(caminho_completo)"
   ]
  },
  {
   "cell_type": "markdown",
   "id": "26237fd1",
   "metadata": {},
   "source": [
    "## 🔧 Processamento Interativo com Widgets"
   ]
  },
  {
   "cell_type": "code",
   "execution_count": null,
   "id": "ed792577",
   "metadata": {},
   "outputs": [],
   "source": [
    "import ipywidgets as widgets\n",
    "from IPython.display import display\n",
    "\n",
    "def selecionar_arquivo_callback(arquivo):\n",
    "    caminho = os.path.join(pasta_arquivos, arquivo)\n",
    "    processar_arquivo(caminho)\n",
    "\n",
    "arquivo_dropdown = widgets.Dropdown(\n",
    "    options=arquivos,\n",
    "    description='Arquivo:',\n",
    "    disabled=False,\n",
    ")\n",
    "\n",
    "botao = widgets.Button(description=\"Processar\")\n",
    "\n",
    "def ao_clicar(b):\n",
    "    selecionar_arquivo_callback(arquivo_dropdown.value)\n",
    "\n",
    "botao.on_click(ao_clicar)\n",
    "\n",
    "display(arquivo_dropdown, botao)"
   ]
  }
 ],
 "metadata": {
  "language_info": {
   "name": "python"
  }
 },
 "nbformat": 4,
 "nbformat_minor": 5
}
